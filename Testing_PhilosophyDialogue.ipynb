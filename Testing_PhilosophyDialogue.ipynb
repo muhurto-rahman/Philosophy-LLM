{
 "cells": [
  {
   "cell_type": "code",
   "execution_count": 1,
   "id": "30e16276-50f6-45ea-9559-bb53eb082c40",
   "metadata": {},
   "outputs": [],
   "source": [
    "import torch\n",
    "from transformers import AutoModelForCausalLM, AutoTokenizer, GPT2LMHeadModel, GPT2Tokenizer"
   ]
  },
  {
   "cell_type": "code",
   "execution_count": 3,
   "id": "76345668-091d-4c2a-a588-93918d8ebbb8",
   "metadata": {},
   "outputs": [
    {
     "name": "stdout",
     "output_type": "stream",
     "text": [
      "Input: Is love a virtue?\n",
      "Generated text: Is love a virtue? What does it matter? What is the essence of love? Is love worth living?\n",
      "\n",
      "In the face of a life of frustration and fear, I find myself asking these questions, not in a philosophical debate, but in the face of a challenge. Is love worth living? Is it worth saving lives? Is it worth loving those around you? Is it worth living for those who are truly worthy? Is love worth a virtue? Is love worth living?\n",
      "\n",
      "I\n"
     ]
    }
   ],
   "source": [
    "\"\"\"\n",
    "TODO: Task 3.1\n",
    "\"\"\"\n",
    "# Hint: Load a model and tokenizer from your EC2 directory or HuggingFace\n",
    "# Hint: Configure pad token to use eos_token for both model and tokenizer\n",
    "# Hint: Specify to use CPU (device = \"cpu\") and model.to(device)\n",
    "\n",
    "# Your code here...\n",
    "\n",
    "\n",
    "tokenizer = GPT2Tokenizer.from_pretrained('fine-tuned-model-3/')\n",
    "model = GPT2LMHeadModel.from_pretrained('fine-tuned-model-3/')\n",
    "\n",
    "tokenizer.pad_token = tokenizer.eos_token\n",
    "model.config.pad_token_id = tokenizer.eos_token_id\n",
    "\n",
    "#Set device to use the cpu\n",
    "device = \"cpu\" \n",
    "model.to(device)\n",
    "\n",
    "\"\"\"\n",
    "End of Task 3.1\n",
    "\"\"\"\n",
    "\n",
    "\n",
    "\n",
    "\"\"\"\n",
    "TODO: Task 3.2\n",
    "\"\"\"\n",
    "# Hint: Write a test prompt that paraphrases a sample in your fine-tuning dataset\n",
    "input_text = \"Is love a virtue?\"\n",
    "# Hint: Tokenize the input via tokenizer()\n",
    "# Your code here...\n",
    "\n",
    "input_ids = tokenizer(input_text, return_tensors = 'pt').input_ids.to(device)\n",
    "\n",
    "\"\"\"\"\n",
    "#End of Task 3.2\n",
    "\"\"\"\n",
    "print(f\"Input: {input_text}\")\n",
    "\"\"\"\n",
    "TODO: Task 3.3\n",
    "\"\"\"\n",
    "# Hint: Generate output token sequence by calling model.generate()\n",
    "# Hint: Configure max_length, temperature, top_p, and do_sample properly\n",
    "# Hint: Decode output token sequence using tokenizer()\n",
    "\n",
    "# Your code here...\n",
    "\n",
    "# Generate text with sampling\n",
    "output_ids = model.generate(\n",
    "    input_ids,\n",
    "    max_length=100,\n",
    "    temperature=0.7,\n",
    "    top_p=0.9,\n",
    "    do_sample=True,\n",
    "    pad_token_id=tokenizer.eos_token_id\n",
    ")\n",
    "\n",
    "# Decode the generated text\n",
    "generated_text = tokenizer.decode(output_ids[0], skip_special_tokens=True)\n",
    "\n",
    "\n",
    "\n",
    "\"\"\"\n",
    "End of Task 3.3\n",
    "\"\"\"\n",
    "\n",
    "\"\"\"\n",
    "End of Task 3.3\n",
    "\"\"\"\n",
    "\n",
    "print(f\"Generated text: {generated_text}\")"
   ]
  },
  {
   "cell_type": "code",
   "execution_count": null,
   "id": "7f90010e-f6d2-451c-92d6-e81b9d597a28",
   "metadata": {},
   "outputs": [],
   "source": []
  }
 ],
 "metadata": {
  "kernelspec": {
   "display_name": "Python 3 (ipykernel)",
   "language": "python",
   "name": "python3"
  },
  "language_info": {
   "codemirror_mode": {
    "name": "ipython",
    "version": 3
   },
   "file_extension": ".py",
   "mimetype": "text/x-python",
   "name": "python",
   "nbconvert_exporter": "python",
   "pygments_lexer": "ipython3",
   "version": "3.10.12"
  }
 },
 "nbformat": 4,
 "nbformat_minor": 5
}
